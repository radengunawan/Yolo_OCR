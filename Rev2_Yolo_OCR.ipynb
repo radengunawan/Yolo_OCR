{
 "cells": [
  {
   "cell_type": "markdown",
   "id": "52a4d6f3",
   "metadata": {},
   "source": [
    "##### OCR & Barcodes SImultaneously"
   ]
  },
  {
   "cell_type": "code",
   "execution_count": 1,
   "id": "b3f889b3",
   "metadata": {},
   "outputs": [
    {
     "data": {
      "text/plain": [
       "'D:\\\\Proj_OCR'"
      ]
     },
     "execution_count": 1,
     "metadata": {},
     "output_type": "execute_result"
    }
   ],
   "source": [
    "pwd"
   ]
  },
  {
   "cell_type": "code",
   "execution_count": 2,
   "id": "5808073d",
   "metadata": {},
   "outputs": [],
   "source": [
    "import cv2\n",
    "import torch\n",
    "from PIL import Image\n",
    "import cv2\n",
    "import torch\n",
    "from PIL import Image\n",
    "import glob\n",
    "import matplotlib.pyplot as plt\n",
    "\n",
    "import numpy as np\n",
    "import matplotlib.image as mpimg\n",
    "import os\n",
    "from pyzbar.pyzbar import decode\n",
    "from pyzbar import pyzbar\n",
    "import cv2\n",
    "import glob\n",
    "from tqdm import tqdm\n",
    "from barcode import EAN13\n",
    "from barcode.writer import ImageWriter\n",
    "import matplotlib.pyplot as plt\n",
    "\n",
    "import cv2\n",
    "import torch\n",
    "from PIL import Image\n",
    "\n",
    "import pytesseract\n",
    "pytesseract.pytesseract.tesseract_cmd = r'C:\\Program Files\\Tesseract-OCR\\tesseract.exe'\n",
    "\n",
    "\n",
    "%matplotlib inline"
   ]
  },
  {
   "cell_type": "code",
   "execution_count": 4,
   "id": "913f16f9",
   "metadata": {},
   "outputs": [],
   "source": [
    "#!pip install ipywidgets"
   ]
  },
  {
   "cell_type": "code",
   "execution_count": 3,
   "id": "aef0250a",
   "metadata": {},
   "outputs": [
    {
     "name": "stderr",
     "output_type": "stream",
     "text": [
      "Using cache found in C:\\Users\\sendr/.cache\\torch\\hub\\ultralytics_yolov5_master\n",
      "YOLOv5  2021-12-9 torch 1.8.2+cu111 CUDA:0 (GeForce RTX 3050 Laptop GPU, 4096MiB)\n",
      "\n",
      "Fusing layers... \n",
      "Model Summary: 224 layers, 7062001 parameters, 0 gradients, 16.4 GFLOPs\n",
      "Adding AutoShape... \n"
     ]
    },
    {
     "name": "stdout",
     "output_type": "stream",
     "text": [
      "<class 'models.common.AutoShape'>\n"
     ]
    }
   ],
   "source": [
    "#YOLO model loading - detect locations of labels\n",
    "model = torch.hub.load('ultralytics/yolov5', 'custom', path='./best_sticker_OCR_All.pt')\n",
    "model.iou = 0.1\n",
    "print(type(model))"
   ]
  },
  {
   "cell_type": "code",
   "execution_count": 4,
   "id": "7d021bdc",
   "metadata": {},
   "outputs": [
    {
     "name": "stdout",
     "output_type": "stream",
     "text": [
      "0\n",
      "24\n"
     ]
    }
   ],
   "source": [
    "files = glob.glob('./Sample_Images/*.png')\n",
    "print(len(files))\n",
    "another_files = glob.glob('./Sample_Images/*.jpg')\n",
    "\n",
    "for file in another_files:\n",
    "    files.append(file)\n",
    "    \n",
    "    \n",
    "print(len(files))"
   ]
  },
  {
   "cell_type": "code",
   "execution_count": 5,
   "id": "975a5d96",
   "metadata": {},
   "outputs": [],
   "source": [
    "# Functions\n",
    "#binarizing\n",
    "def binarizeImage (image, tresh_value = 127):\n",
    "    grayImage = cv2.cvtColor(image, cv2.COLOR_BGR2GRAY)\n",
    "    (thresh, blackAndWhiteImage) = cv2.threshold(grayImage, tresh_value, 255, cv2.THRESH_BINARY)\n",
    "    #plt.imshow(blackAndWhiteImage)\n",
    "    return blackAndWhiteImage\n",
    "\n",
    "\n",
    "def readOCR(image):\n",
    "        total_letter = ''\n",
    "        hImg, wImg, _ = image.shape  \n",
    "        #hImg, wImg = binarizedImage.shape\n",
    "        #image = binarizeImage (image, treshold)\n",
    "        boxes = pytesseract.image_to_boxes(image)\n",
    "        total_letter = ''\n",
    "        \n",
    "        for b in boxes.splitlines():\n",
    "            b = b.split(' ')\n",
    "            x,y,w,h = int(b[1]), int(b[2]), int(b[3]), int(b[4])\n",
    "            start_point = (x, hImg -y)\n",
    "            end_point = (w, hImg -h)\n",
    "            mid_point = ((x+w)//2, (start_point[1]+end_point[1])//2)\n",
    "            write_point = (mid_point[0],end_point[1])\n",
    "            total_letter+=b[0]\n",
    "            \n",
    "        return total_letter\n",
    "    \n",
    "def readOCRBinary(binarizedImage):\n",
    "        total_letter = ''\n",
    "        #hImg, wImg, _ = image.shape  \n",
    "        hImg, wImg = binarizedImage.shape\n",
    "        #image = binarizeImage (image, treshold)\n",
    "        boxes = pytesseract.image_to_boxes(image)\n",
    "        total_letter = ''\n",
    "        \n",
    "        for b in boxes.splitlines():\n",
    "            b = b.split(' ')\n",
    "            x,y,w,h = int(b[1]), int(b[2]), int(b[3]), int(b[4])\n",
    "            start_point = (x, hImg -y)\n",
    "            end_point = (w, hImg -h)\n",
    "            mid_point = ((x+w)//2, (start_point[1]+end_point[1])//2)\n",
    "            write_point = (mid_point[0],end_point[1])\n",
    "            total_letter+=b[0]\n",
    "            \n",
    "        return total_letter\n",
    "    \n",
    "def readBarcode (stickerObject): \n",
    "    barcodes = decode(stickerObject.binarizedImage)\n",
    "    \n",
    "\n",
    "    if (len(barcodes) > 0):\n",
    "        print ('Barcode detected')\n",
    "        k = 0\n",
    "        for barcode in barcodes:\n",
    "        \n",
    "            (x, y, w, h) = barcode.rect\n",
    "        #cv2.rectangle(originalImage, (x, y), (x + w, y + h), (0, 0, 255), thickness=2)\n",
    "            barcodeData = barcode.data.decode(\"utf-8\")\n",
    "            barcodeType = barcode.type\n",
    "            barcode_object = Barcode(barcodeData, barcodeType, [(x, y), (x + w, y + h)])\n",
    "        \n",
    "            stickerObject.barcodeList.append(barcode_object)\n",
    "        \n",
    "        #list_locationPoints.append(((x, y), (x + w, y + h)))\n",
    "        \n",
    "        #list_barcodeData.append(barcodeData)\n",
    "        \n",
    "        #list_barcodeType.append(barcodeType)\n",
    "            \n",
    "            text = \"{} ({})\".format(barcodeData, barcodeType)\n",
    "        \n",
    "        #text = \"{}\".format(barcodeData)\n",
    "            bbObject = BoundingBox((x, y), (x + w, y + h), text)\n",
    "        \n",
    "            stickerObject.barcodeList[k].boundingBox = bbObject\n",
    "        \n",
    "            cv2.putText(stickerObject.image, text, (x, y - 10), cv2.FONT_HERSHEY_SIMPLEX, 1, (255, 127, 255), 1)\n",
    "            cv2.rectangle(stickerObject.image, (x, y),  (x + w, y + h), (255, 127, 255), 1)\n",
    "            k +=1\n",
    "\n",
    "    else:\n",
    "        print ('Barcode not detected')\n",
    "    \n",
    "\n",
    "    \n",
    "class Sticker:\n",
    "    def __init__(self, image = None):\n",
    "        #general identity\n",
    "        self.image = image\n",
    "        self.binarizedImage = binarizeImage(image)\n",
    "        \n",
    "        #OCR purpose\n",
    "        self.results = []\n",
    "        self.Attributes = []\n",
    "        self.Contents = []\n",
    "        \n",
    "        #Barcode purpose\n",
    "        self.barcodeList = []\n",
    "        \n",
    "    \n",
    "'''class Data:\n",
    "    def __init__(self, Attribute, Content):\n",
    "        self.Attribute = None\n",
    "        self.Content = None'''\n",
    "\n",
    "\n",
    "\n",
    "\n",
    "## OCR Purpose        \n",
    "class Attribute:\n",
    "    def __init__(self, start_point, end_point, middle_point, image):    \n",
    "        self.start_point = start_point\n",
    "        self.end_point = end_point\n",
    "        self.middle_point = middle_point\n",
    "        \n",
    "        self.xmin = start_point[0]\n",
    "        self.ymin = start_point[1]\n",
    "        \n",
    "        self.xmax = end_point[0]\n",
    "        self.ymax = end_point[1]\n",
    "        \n",
    "        self.xmid = (self.xmin + self.xmax)//2\n",
    "        self.ymid = (self.ymin + self.ymax)//2\n",
    "        \n",
    "        self.image = image[ymin:ymax,xmin:xmax]\n",
    "        \n",
    "        self.binarizedImage = None\n",
    "        self.OCR = None\n",
    "        self.WriteSpot = (self.xmid, self.ymin)\n",
    "        \n",
    "        \n",
    "       \n",
    "class Content:\n",
    "    def __init__(self, start_point, end_point, middle_point, image):       \n",
    "        self.start_point = start_point\n",
    "        self.end_point = end_point\n",
    "        self.middle_point = middle_point\n",
    "        \n",
    "        self.xmin = start_point[0]\n",
    "        self.ymin = start_point[1]\n",
    "        \n",
    "        self.xmax = end_point[0]\n",
    "        self.ymax = end_point[1]\n",
    "        \n",
    "        self.xmid = (self.xmin + self.xmax)//2\n",
    "        self.ymid = (self.ymin + self.ymax)//2\n",
    "        \n",
    "        self.image = image [ymin:ymax,xmin:xmax]\n",
    "        \n",
    "        self.binarizedImage = None\n",
    "        self.OCR = None\n",
    "        self.WriteSpot = (self.xmax, self.ymid)\n",
    "        #self.WriteSpot = (xmax, ymid)\n",
    "        \n",
    "        \n",
    "# Barcode Purpose\n",
    "class Barcode:\n",
    "    def __init__(self,  barcodeContent, barcodeType, originAddress):\n",
    "        self.barcodeContent = barcodeContent\n",
    "        self.barcodeType = barcodeType\n",
    "        self.boundingBox = None\n",
    "\n",
    "class BoundingBox:\n",
    "     def __init__(self, initPosition, finalPosition, theText):\n",
    "         self.initPosition = initPosition\n",
    "         self.finalPosition = finalPosition\n",
    "         self.theText = theText\n",
    "         self.color = (0,0,255)\n"
   ]
  },
  {
   "cell_type": "code",
   "execution_count": 6,
   "id": "e4bcaf15",
   "metadata": {},
   "outputs": [
    {
     "name": "stderr",
     "output_type": "stream",
     "text": [
      "100%|██████████████████████████████████████████████████████████████████████████████████| 24/24 [00:00<00:00, 25.30it/s]\n"
     ]
    }
   ],
   "source": [
    "#Operation on each stickers\n",
    "\n",
    "sticker_list = []  # batch of images\n",
    "\n",
    "#read each file of sticker images\n",
    "for file in tqdm(files):\n",
    "    sticker_list.append(Sticker(cv2.imread(file)))\n",
    "    \n",
    "#convert BGR to RGB\n",
    "for i in range (len(sticker_list)):\n",
    "    sticker_list[i].image = cv2.cvtColor(sticker_list[i].image, cv2.COLOR_BGR2RGB)\n",
    "    \n",
    "for i in range (len(sticker_list)):\n",
    "    sticker_list[i].results = model(np.copy(sticker_list[i].image))    "
   ]
  },
  {
   "cell_type": "code",
   "execution_count": 7,
   "id": "6434f80b",
   "metadata": {},
   "outputs": [
    {
     "name": "stderr",
     "output_type": "stream",
     "text": [
      "100%|██████████████████████████████████████████████████████████████████████████████████| 24/24 [00:00<00:00, 34.47it/s]\n"
     ]
    }
   ],
   "source": [
    "# Add list of attributes and content in images\n",
    "\n",
    "for i in tqdm(range (len(sticker_list))):\n",
    "    df = sticker_list[i].results.pandas().xyxy[0]\n",
    "    df_att = df.loc[df['name']=='attributes']\n",
    "    df_data = df.loc[df['name']!='attributes']\n",
    "    \n",
    "    if (len(df) < 1):\n",
    "        continue\n",
    "        \n",
    "    #Add Attributes\n",
    "    for j in range(len(df_att)):\n",
    "        xmin = int(df_att.iloc[j].xmin)\n",
    "        ymin = int(df_att.iloc[j].ymin)\n",
    "        xmax = int(df_att.iloc[j].xmax)\n",
    "        ymax = int(df_att.iloc[j].ymax)\n",
    "        \n",
    "        start_point = (xmin, ymin)\n",
    "        end_point = (xmax, ymax)\n",
    "        mid_point = ((xmin+xmax)//2, (ymin+ymax)//2)\n",
    "        image = sticker_list[i].image\n",
    "        sticker_list[i].Attributes.append(Attribute(start_point, end_point, mid_point, image))\n",
    "    \n",
    "    #Add Data (Content) to list in sticker objects\n",
    "    for j in range(len(df_data.index)):\n",
    "        xmin = int(df_data.iloc[j].xmin)\n",
    "        ymin = int(df_data.iloc[j].ymin)\n",
    "        xmax = int(df_data.iloc[j].xmax)\n",
    "        ymax = int(df_data.iloc[j].ymax)\n",
    "        \n",
    "        start_point = (xmin, ymin)\n",
    "        end_point = (xmax, ymax)\n",
    "        mid_point = ((xmin+xmax)//2, (ymin+ymax)//2)\n",
    "        image = sticker_list[i].image\n",
    "        sticker_list[i].Contents.append(Content(start_point, end_point, mid_point, image))\n"
   ]
  },
  {
   "cell_type": "code",
   "execution_count": 9,
   "id": "fba56aee",
   "metadata": {},
   "outputs": [
    {
     "name": "stdout",
     "output_type": "stream",
     "text": [
      "None\n"
     ]
    },
    {
     "data": {
      "image/png": "[encoded data removed]",
      "text/plain": [
       "<Figure size 432x288 with 1 Axes>"
      ]
     },
     "metadata": {
      "needs_background": "light"
     },
     "output_type": "display_data"
    }
   ],
   "source": [
    "#TEST\n",
    "i = 0\n",
    "j = 0\n",
    "\n",
    "%matplotlib inline\n",
    "plt.imshow(sticker_list[i].Attributes[j].image)\n",
    "print(sticker_list[i].Attributes[j].OCR)"
   ]
  },
  {
   "cell_type": "code",
   "execution_count": 10,
   "id": "f32c37fd",
   "metadata": {},
   "outputs": [
    {
     "name": "stderr",
     "output_type": "stream",
     "text": [
      "100%|██████████████████████████████████████████████████████████████████████████████████| 24/24 [01:10<00:00,  2.93s/it]\n"
     ]
    }
   ],
   "source": [
    "# set the OCR read for all stickers in each labels:\n",
    "for sticker in tqdm(sticker_list):\n",
    "    for attribute in sticker.Attributes:\n",
    "        attribute.binarizedImage = binarizeImage(attribute.image)\n",
    "        attribute.OCR = readOCR(attribute.image)\n",
    "        \n",
    "    for content in sticker.Contents:\n",
    "        content.binarizedImage = binarizeImage(content.image)\n",
    "        content.OCR = readOCR(content.image)"
   ]
  },
  {
   "cell_type": "code",
   "execution_count": 11,
   "id": "a11c1e90",
   "metadata": {},
   "outputs": [
    {
     "name": "stderr",
     "output_type": "stream",
     "text": [
      "100%|█████████████████████████████████████████████████████████████████████████████████| 24/24 [00:00<00:00, 658.34it/s]"
     ]
    },
    {
     "name": "stdout",
     "output_type": "stream",
     "text": [
      "Finished\n"
     ]
    },
    {
     "name": "stderr",
     "output_type": "stream",
     "text": [
      "\n"
     ]
    }
   ],
   "source": [
    "#WRITE ALL TO THE IMAGE\n",
    "for i in tqdm(range(len(sticker_list))):\n",
    "    \n",
    "    #Attributes\n",
    "    #print('Writing attributes....')\n",
    "    for attribute in sticker_list[i].Attributes:\n",
    "        text = attribute.OCR\n",
    "        coordinates = attribute.WriteSpot\n",
    "        font = cv2.FONT_HERSHEY_SIMPLEX\n",
    "        fontScale = 1\n",
    "        color =  (255,0,255)\n",
    "        thickness = 1\n",
    "        \n",
    "        cv2.rectangle(sticker_list[i].image, attribute.start_point, attribute.end_point, color, thickness)\n",
    "        \n",
    "        cv2.putText(sticker_list[i].image, text, coordinates, font, fontScale, color, thickness, cv2.LINE_AA)\n",
    "        \n",
    "    \n",
    "    #Content\n",
    "    #print('Writing content....')\n",
    "    for content in sticker_list[i].Contents:\n",
    "        text = content.OCR\n",
    "        coordinates = content.WriteSpot\n",
    "        font = cv2.FONT_HERSHEY_SIMPLEX\n",
    "        fontScale = 1\n",
    "        color =  (255,0,0)\n",
    "        thickness = 1\n",
    "        \n",
    "        cv2.rectangle(sticker_list[i].image, content.start_point, content.end_point, color, thickness)\n",
    "            \n",
    "        cv2.putText(sticker_list[i].image, text, coordinates, font, fontScale, color, thickness, cv2.LINE_AA)\n",
    "        \n",
    "print('Finished')"
   ]
  },
  {
   "cell_type": "code",
   "execution_count": 12,
   "id": "b21a2983",
   "metadata": {},
   "outputs": [
    {
     "name": "stderr",
     "output_type": "stream",
     "text": [
      " 17%|█████████████▊                                                                     | 4/24 [00:00<00:01, 15.39it/s]"
     ]
    },
    {
     "name": "stdout",
     "output_type": "stream",
     "text": [
      "Barcode detected\n",
      "Barcode detected\n",
      "Barcode detected\n",
      "Barcode not detected\n"
     ]
    },
    {
     "name": "stderr",
     "output_type": "stream",
     "text": [
      "\r",
      " 33%|███████████████████████████▋                                                       | 8/24 [00:00<00:00, 20.35it/s]"
     ]
    },
    {
     "name": "stdout",
     "output_type": "stream",
     "text": [
      "Barcode not detected\n",
      "Barcode detected\n",
      "Barcode not detected\n",
      "Barcode detected\n",
      "Barcode not detected\n"
     ]
    },
    {
     "name": "stderr",
     "output_type": "stream",
     "text": [
      "\r",
      " 46%|█████████████████████████████████████▌                                            | 11/24 [00:00<00:00, 19.17it/s]"
     ]
    },
    {
     "name": "stdout",
     "output_type": "stream",
     "text": [
      "Barcode not detected\n",
      "Barcode not detected\n",
      "Barcode not detected\n",
      "Barcode detected\n",
      "Barcode not detected\n"
     ]
    },
    {
     "name": "stderr",
     "output_type": "stream",
     "text": [
      " 79%|████████████████████████████████████████████████████████████████▉                 | 19/24 [00:01<00:00, 19.97it/s]"
     ]
    },
    {
     "name": "stdout",
     "output_type": "stream",
     "text": [
      "Barcode detected\n",
      "Barcode detected\n",
      "Barcode detected\n",
      "Barcode not detected\n",
      "Barcode detected\n",
      "Barcode detected\n"
     ]
    },
    {
     "name": "stderr",
     "output_type": "stream",
     "text": [
      "\r",
      " 92%|███████████████████████████████████████████████████████████████████████████▏      | 22/24 [00:01<00:00, 21.07it/s]"
     ]
    },
    {
     "name": "stdout",
     "output_type": "stream",
     "text": [
      "Barcode not detected\n",
      "Barcode detected\n",
      "Barcode not detected\n",
      "Barcode detected\n"
     ]
    },
    {
     "name": "stderr",
     "output_type": "stream",
     "text": [
      "100%|██████████████████████████████████████████████████████████████████████████████████| 24/24 [00:01<00:00, 18.81it/s]\n"
     ]
    }
   ],
   "source": [
    "# Read Barcode\n",
    "for sticker in tqdm(sticker_list):\n",
    "    readBarcode (sticker)"
   ]
  },
  {
   "cell_type": "code",
   "execution_count": 14,
   "id": "9db6070d",
   "metadata": {},
   "outputs": [
    {
     "name": "stderr",
     "output_type": "stream",
     "text": [
      "100%|██████████████████████████████████████████████████████████████████████████████████| 24/24 [00:01<00:00, 18.36it/s]\n"
     ]
    }
   ],
   "source": [
    "i = 0\n",
    "for sticker in tqdm(sticker_list):\n",
    "    cv2.imwrite('./output_OCRBarcodes3/res_'+str(i)+'.jpg',sticker.image[:,:,::-1])\n",
    "    i +=1"
   ]
  },
  {
   "cell_type": "code",
   "execution_count": 61,
   "id": "7c45eeb1",
   "metadata": {},
   "outputs": [
    {
     "data": {
      "text/plain": [
       "'D:\\\\Proj_OCR'"
      ]
     },
     "execution_count": 61,
     "metadata": {},
     "output_type": "execute_result"
    }
   ],
   "source": [
    "pwd"
   ]
  },
  {
   "cell_type": "code",
   "execution_count": null,
   "id": "2b05f807",
   "metadata": {},
   "outputs": [],
   "source": []
  }
 ],
 "metadata": {
  "kernelspec": {
   "display_name": "Python 3 (ipykernel)",
   "language": "python",
   "name": "python3"
  },
  "language_info": {
   "codemirror_mode": {
    "name": "ipython",
    "version": 3
   },
   "file_extension": ".py",
   "mimetype": "text/x-python",
   "name": "python",
   "nbconvert_exporter": "python",
   "pygments_lexer": "ipython3",
   "version": "3.9.12"
  }
 },
 "nbformat": 4,
 "nbformat_minor": 5
}
